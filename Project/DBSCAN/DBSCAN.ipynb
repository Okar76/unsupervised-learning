{
 "cells": [
  {
   "cell_type": "code",
   "execution_count": 1,
   "id": "681841ed-c560-425c-a418-38d8222a1975",
   "metadata": {},
   "outputs": [],
   "source": [
    "# Import necessary libraries\n",
    "import pandas as pd\n",
    "from sklearn.preprocessing import StandardScaler\n",
    "from sklearn.cluster import DBSCAN\n",
    "from sklearn.neighbors import NearestNeighbors\n",
    "import numpy as np\n",
    "import matplotlib.pyplot as plt\n",
    "import seaborn as sns"
   ]
  },
  {
   "cell_type": "code",
   "execution_count": 2,
   "id": "f46bc69f-01ae-45f7-b8ad-9cf6ca846239",
   "metadata": {},
   "outputs": [
    {
     "data": {
      "text/html": [
       "<div>\n",
       "<style scoped>\n",
       "    .dataframe tbody tr th:only-of-type {\n",
       "        vertical-align: middle;\n",
       "    }\n",
       "\n",
       "    .dataframe tbody tr th {\n",
       "        vertical-align: top;\n",
       "    }\n",
       "\n",
       "    .dataframe thead th {\n",
       "        text-align: right;\n",
       "    }\n",
       "</style>\n",
       "<table border=\"1\" class=\"dataframe\">\n",
       "  <thead>\n",
       "    <tr style=\"text-align: right;\">\n",
       "      <th></th>\n",
       "      <th>CustomerID</th>\n",
       "      <th>Gender</th>\n",
       "      <th>Age</th>\n",
       "      <th>Annual Income (k$)</th>\n",
       "      <th>Spending Score (1-100)</th>\n",
       "    </tr>\n",
       "  </thead>\n",
       "  <tbody>\n",
       "    <tr>\n",
       "      <th>0</th>\n",
       "      <td>1</td>\n",
       "      <td>Male</td>\n",
       "      <td>19</td>\n",
       "      <td>15</td>\n",
       "      <td>39</td>\n",
       "    </tr>\n",
       "    <tr>\n",
       "      <th>1</th>\n",
       "      <td>2</td>\n",
       "      <td>Male</td>\n",
       "      <td>21</td>\n",
       "      <td>15</td>\n",
       "      <td>81</td>\n",
       "    </tr>\n",
       "    <tr>\n",
       "      <th>2</th>\n",
       "      <td>3</td>\n",
       "      <td>Female</td>\n",
       "      <td>20</td>\n",
       "      <td>16</td>\n",
       "      <td>6</td>\n",
       "    </tr>\n",
       "    <tr>\n",
       "      <th>3</th>\n",
       "      <td>4</td>\n",
       "      <td>Female</td>\n",
       "      <td>23</td>\n",
       "      <td>16</td>\n",
       "      <td>77</td>\n",
       "    </tr>\n",
       "    <tr>\n",
       "      <th>4</th>\n",
       "      <td>5</td>\n",
       "      <td>Female</td>\n",
       "      <td>31</td>\n",
       "      <td>17</td>\n",
       "      <td>40</td>\n",
       "    </tr>\n",
       "  </tbody>\n",
       "</table>\n",
       "</div>"
      ],
      "text/plain": [
       "   CustomerID  Gender  Age  Annual Income (k$)  Spending Score (1-100)\n",
       "0           1    Male   19                  15                      39\n",
       "1           2    Male   21                  15                      81\n",
       "2           3  Female   20                  16                       6\n",
       "3           4  Female   23                  16                      77\n",
       "4           5  Female   31                  17                      40"
      ]
     },
     "execution_count": 2,
     "metadata": {},
     "output_type": "execute_result"
    }
   ],
   "source": [
    "# Load data \n",
    "df = pd.read_csv(\"../data/Mall_Customers.csv\")\n",
    "df.head()"
   ]
  },
  {
   "cell_type": "code",
   "execution_count": 3,
   "id": "f329a47e-a548-4f8a-ba9d-e1c5ffc0c99f",
   "metadata": {},
   "outputs": [
    {
     "data": {
      "text/plain": [
       "CustomerID                0\n",
       "Gender                    0\n",
       "Age                       0\n",
       "Annual Income (k$)        0\n",
       "Spending Score (1-100)    0\n",
       "dtype: int64"
      ]
     },
     "execution_count": 3,
     "metadata": {},
     "output_type": "execute_result"
    }
   ],
   "source": [
    "# checking NA \n",
    "df.isna().sum()"
   ]
  },
  {
   "cell_type": "code",
   "execution_count": 4,
   "id": "fd03194b-893a-4715-9555-d4bef75e5b0d",
   "metadata": {},
   "outputs": [
    {
     "name": "stdout",
     "output_type": "stream",
     "text": [
      "Before cleaning (198, 5)\n",
      "After cleaning (198, 5)\n"
     ]
    }
   ],
   "source": [
    "# remove outlier if any \n",
    "def remove_outliers_iqr_all(df):\n",
    "    numeric_cols = df.select_dtypes(include='number').columns\n",
    "    mask = pd.Series([True] * len(df), index=df.index)  \n",
    "\n",
    "    for col in numeric_cols:\n",
    "        data = df[col].dropna()\n",
    "        q1 = data.quantile(0.25)\n",
    "        q3 = data.quantile(0.75)\n",
    "        iqr = q3 - q1\n",
    "        lower = q1 - 1.5 * iqr\n",
    "        upper = q3 + 1.5 * iqr\n",
    "\n",
    "        mask &= (df[col] >= lower) & (df[col] <= upper)\n",
    "\n",
    "    return df[mask]  \n",
    "df = remove_outliers_iqr_all(df)\n",
    "print(\"Before cleaning\", df.shape)\n",
    "print(\"After cleaning\", df.shape)"
   ]
  },
  {
   "cell_type": "code",
   "execution_count": 5,
   "id": "f57f5a28-b29b-4527-a020-46c19462cd20",
   "metadata": {},
   "outputs": [],
   "source": [
    "# pick just the numerical columns becaues the model is accepting only numerical data\n",
    "df.drop(\"CustomerID\" , inplace=True , axis=1)\n",
    "df = df.select_dtypes(include=['float64', 'int64'])"
   ]
  },
  {
   "cell_type": "code",
   "execution_count": 6,
   "id": "d85cb520-3588-4f48-9b5c-7521c803f19e",
   "metadata": {},
   "outputs": [
    {
     "data": {
      "text/html": [
       "<div>\n",
       "<style scoped>\n",
       "    .dataframe tbody tr th:only-of-type {\n",
       "        vertical-align: middle;\n",
       "    }\n",
       "\n",
       "    .dataframe tbody tr th {\n",
       "        vertical-align: top;\n",
       "    }\n",
       "\n",
       "    .dataframe thead th {\n",
       "        text-align: right;\n",
       "    }\n",
       "</style>\n",
       "<table border=\"1\" class=\"dataframe\">\n",
       "  <thead>\n",
       "    <tr style=\"text-align: right;\">\n",
       "      <th></th>\n",
       "      <th>Age</th>\n",
       "      <th>Annual Income (k$)</th>\n",
       "      <th>Spending Score (1-100)</th>\n",
       "    </tr>\n",
       "  </thead>\n",
       "  <tbody>\n",
       "    <tr>\n",
       "      <th>0</th>\n",
       "      <td>19</td>\n",
       "      <td>15</td>\n",
       "      <td>39</td>\n",
       "    </tr>\n",
       "    <tr>\n",
       "      <th>1</th>\n",
       "      <td>21</td>\n",
       "      <td>15</td>\n",
       "      <td>81</td>\n",
       "    </tr>\n",
       "    <tr>\n",
       "      <th>2</th>\n",
       "      <td>20</td>\n",
       "      <td>16</td>\n",
       "      <td>6</td>\n",
       "    </tr>\n",
       "    <tr>\n",
       "      <th>3</th>\n",
       "      <td>23</td>\n",
       "      <td>16</td>\n",
       "      <td>77</td>\n",
       "    </tr>\n",
       "    <tr>\n",
       "      <th>4</th>\n",
       "      <td>31</td>\n",
       "      <td>17</td>\n",
       "      <td>40</td>\n",
       "    </tr>\n",
       "    <tr>\n",
       "      <th>...</th>\n",
       "      <td>...</td>\n",
       "      <td>...</td>\n",
       "      <td>...</td>\n",
       "    </tr>\n",
       "    <tr>\n",
       "      <th>193</th>\n",
       "      <td>38</td>\n",
       "      <td>113</td>\n",
       "      <td>91</td>\n",
       "    </tr>\n",
       "    <tr>\n",
       "      <th>194</th>\n",
       "      <td>47</td>\n",
       "      <td>120</td>\n",
       "      <td>16</td>\n",
       "    </tr>\n",
       "    <tr>\n",
       "      <th>195</th>\n",
       "      <td>35</td>\n",
       "      <td>120</td>\n",
       "      <td>79</td>\n",
       "    </tr>\n",
       "    <tr>\n",
       "      <th>196</th>\n",
       "      <td>45</td>\n",
       "      <td>126</td>\n",
       "      <td>28</td>\n",
       "    </tr>\n",
       "    <tr>\n",
       "      <th>197</th>\n",
       "      <td>32</td>\n",
       "      <td>126</td>\n",
       "      <td>74</td>\n",
       "    </tr>\n",
       "  </tbody>\n",
       "</table>\n",
       "<p>198 rows × 3 columns</p>\n",
       "</div>"
      ],
      "text/plain": [
       "     Age  Annual Income (k$)  Spending Score (1-100)\n",
       "0     19                  15                      39\n",
       "1     21                  15                      81\n",
       "2     20                  16                       6\n",
       "3     23                  16                      77\n",
       "4     31                  17                      40\n",
       "..   ...                 ...                     ...\n",
       "193   38                 113                      91\n",
       "194   47                 120                      16\n",
       "195   35                 120                      79\n",
       "196   45                 126                      28\n",
       "197   32                 126                      74\n",
       "\n",
       "[198 rows x 3 columns]"
      ]
     },
     "execution_count": 6,
     "metadata": {},
     "output_type": "execute_result"
    }
   ],
   "source": [
    "df"
   ]
  },
  {
   "cell_type": "code",
   "execution_count": 7,
   "id": "5c323def-6a62-49e5-820f-a43320e92973",
   "metadata": {},
   "outputs": [],
   "source": [
    "# The model is sensitive to feature scales, so we should scale the data\n",
    "scaler = StandardScaler()\n",
    "X_scaled = scaler.fit_transform(df)"
   ]
  },
  {
   "cell_type": "code",
   "execution_count": 8,
   "id": "994a283c-5ef0-4ebc-b6a2-8b61274170df",
   "metadata": {},
   "outputs": [],
   "source": [
    "neighbors = NearestNeighbors(n_neighbors=5)\n",
    "neighbors_fit = neighbors.fit(X_scaled)\n",
    "distances, indices = neighbors_fit.kneighbors(X_scaled)\n",
    "distances = np.sort(distances[:, -1])"
   ]
  },
  {
   "cell_type": "code",
   "execution_count": 9,
   "id": "9be107b8-80b0-41b6-9827-31805ebbd647",
   "metadata": {},
   "outputs": [
    {
     "data": {
      "image/png": "[encoded data removed]",
      "text/plain": [
       "<Figure size 640x480 with 1 Axes>"
      ]
     },
     "metadata": {},
     "output_type": "display_data"
    }
   ],
   "source": [
    "plt.plot(distances)\n",
    "plt.ylabel(\"k-distance\")\n",
    "plt.xlabel(\"Points sorted by distance\")\n",
    "plt.title(\"Choose eps at elbow\")\n",
    "plt.show()"
   ]
  },
  {
   "cell_type": "code",
   "execution_count": 10,
   "id": "69a28a38-08a3-462d-9817-b8269d907ef7",
   "metadata": {},
   "outputs": [],
   "source": [
    "# Function to evaluate DBSCAN with different parameters\n",
    "def evaluate_dbscan(X, eps_values, min_samples_values):\n",
    "    results = []\n",
    "    for eps in eps_values:\n",
    "        for min_samples in min_samples_values:\n",
    "            # Ensure min_samples is integer\n",
    "            min_samples = int(min_samples)\n",
    "            \n",
    "            db = DBSCAN(eps=eps, min_samples=min_samples, metric='euclidean')\n",
    "            labels = db.fit_predict(X)\n",
    "            \n",
    "            # Number of clusters (ignoring noise if present)\n",
    "            n_clusters = len(set(labels)) - (1 if -1 in labels else 0)\n",
    "            \n",
    "            # Calculate silhouette score (only if more than 1 cluster)\n",
    "            if n_clusters > 1:\n",
    "                try:\n",
    "                    silhouette = silhouette_score(X, labels)\n",
    "                except:\n",
    "                    silhouette = -1  # Handle cases where silhouette can't be calculated\n",
    "            else:\n",
    "                silhouette = -1  # Invalid score\n",
    "            \n",
    "            # Count noise points\n",
    "            noise_points = list(labels).count(-1)\n",
    "            \n",
    "            results.append({\n",
    "                'eps': eps,\n",
    "                'min_samples': min_samples,\n",
    "                'n_clusters': n_clusters,\n",
    "                'silhouette': silhouette,\n",
    "                'noise_points': noise_points\n",
    "            })\n",
    "    \n",
    "    return pd.DataFrame(results)\n"
   ]
  },
  {
   "cell_type": "code",
   "execution_count": 11,
   "id": "440be1c7-7bf6-4f74-ac5e-552f90fbf685",
   "metadata": {},
   "outputs": [
    {
     "name": "stdout",
     "output_type": "stream",
     "text": [
      "\n",
      "Parameter evaluation results:\n",
      "   eps  min_samples  n_clusters  silhouette  noise_points\n",
      "0  0.3            3          12          -1           102\n",
      "1  0.3            5           9          -1           138\n",
      "2  0.3            7           1          -1           188\n",
      "3  0.3           10           0          -1           198\n",
      "4  0.4            3          10          -1            57\n",
      "5  0.4            5           7          -1            96\n",
      "6  0.4            7           5          -1           127\n",
      "7  0.4           10           2          -1           168\n",
      "8  0.5            3          10          -1            32\n",
      "9  0.5            5           5          -1            64\n"
     ]
    }
   ],
   "source": [
    "eps_values = np.linspace(0.3, 1.0, 8)\n",
    "min_samples_values = [3, 5, 7, 10]\n",
    "param_results = evaluate_dbscan(X_scaled, eps_values, min_samples_values)\n",
    "print(\"\\nParameter evaluation results:\")\n",
    "print(param_results.sort_values('silhouette', ascending=False).head(10))\n"
   ]
  },
  {
   "cell_type": "code",
   "execution_count": 12,
   "id": "76d9769f-2757-43be-870a-a84dd634c27a",
   "metadata": {},
   "outputs": [
    {
     "data": {
      "image/png": "[encoded data removed]",
      "text/plain": [
       "<Figure size 1200x600 with 1 Axes>"
      ]
     },
     "metadata": {},
     "output_type": "display_data"
    }
   ],
   "source": [
    "# Visualize parameter performance\n",
    "plt.figure(figsize=(12, 6))\n",
    "sns.lineplot(data=param_results, x='eps', y='silhouette', hue='min_samples', marker='o')\n",
    "plt.title('Silhouette Score for Different DBSCAN Parameters')\n",
    "plt.xlabel('Epsilon (eps)')\n",
    "plt.ylabel('Silhouette Score')\n",
    "plt.grid(True)\n",
    "plt.show()"
   ]
  },
  {
   "cell_type": "code",
   "execution_count": 13,
   "id": "a4feeb57-3ab7-480e-be8a-0637eb8c927f",
   "metadata": {},
   "outputs": [
    {
     "name": "stdout",
     "output_type": "stream",
     "text": [
      "\n",
      "Best parameters:\n",
      "eps               0.3\n",
      "min_samples       3.0\n",
      "n_clusters       12.0\n",
      "silhouette       -1.0\n",
      "noise_points    102.0\n",
      "Name: 0, dtype: float64\n"
     ]
    }
   ],
   "source": [
    "best_params = param_results.loc[param_results['silhouette'].idxmax()]\n",
    "print(\"\\nBest parameters:\")\n",
    "print(best_params)\n"
   ]
  },
  {
   "cell_type": "code",
   "execution_count": 14,
   "id": "ce8aa524-9808-42ea-88f9-a5be69180417",
   "metadata": {},
   "outputs": [],
   "source": [
    "# Train DBSCAN with best parameters\n",
    "best_db = DBSCAN(eps=best_params['eps'], \n",
    "                min_samples=int(best_params['min_samples']),  # Convert to int\n",
    "                metric='euclidean')\n",
    "labels = best_db.fit_predict(X_scaled)"
   ]
  },
  {
   "cell_type": "code",
   "execution_count": 15,
   "id": "5126d4ce-85bc-40f5-b5b8-702420d0a971",
   "metadata": {},
   "outputs": [],
   "source": [
    "# Add labels to dataframe\n",
    "df['Cluster'] = labels"
   ]
  },
  {
   "cell_type": "code",
   "execution_count": 16,
   "id": "adeec981-44b6-42fa-850e-da6413b27e88",
   "metadata": {},
   "outputs": [
    {
     "data": {
      "text/html": [
       "<div>\n",
       "<style scoped>\n",
       "    .dataframe tbody tr th:only-of-type {\n",
       "        vertical-align: middle;\n",
       "    }\n",
       "\n",
       "    .dataframe tbody tr th {\n",
       "        vertical-align: top;\n",
       "    }\n",
       "\n",
       "    .dataframe thead th {\n",
       "        text-align: right;\n",
       "    }\n",
       "</style>\n",
       "<table border=\"1\" class=\"dataframe\">\n",
       "  <thead>\n",
       "    <tr style=\"text-align: right;\">\n",
       "      <th></th>\n",
       "      <th>Age</th>\n",
       "      <th>Annual Income (k$)</th>\n",
       "      <th>Spending Score (1-100)</th>\n",
       "      <th>Cluster</th>\n",
       "    </tr>\n",
       "  </thead>\n",
       "  <tbody>\n",
       "    <tr>\n",
       "      <th>0</th>\n",
       "      <td>19</td>\n",
       "      <td>15</td>\n",
       "      <td>39</td>\n",
       "      <td>-1</td>\n",
       "    </tr>\n",
       "    <tr>\n",
       "      <th>1</th>\n",
       "      <td>21</td>\n",
       "      <td>15</td>\n",
       "      <td>81</td>\n",
       "      <td>0</td>\n",
       "    </tr>\n",
       "    <tr>\n",
       "      <th>2</th>\n",
       "      <td>20</td>\n",
       "      <td>16</td>\n",
       "      <td>6</td>\n",
       "      <td>-1</td>\n",
       "    </tr>\n",
       "    <tr>\n",
       "      <th>3</th>\n",
       "      <td>23</td>\n",
       "      <td>16</td>\n",
       "      <td>77</td>\n",
       "      <td>0</td>\n",
       "    </tr>\n",
       "    <tr>\n",
       "      <th>4</th>\n",
       "      <td>31</td>\n",
       "      <td>17</td>\n",
       "      <td>40</td>\n",
       "      <td>-1</td>\n",
       "    </tr>\n",
       "    <tr>\n",
       "      <th>...</th>\n",
       "      <td>...</td>\n",
       "      <td>...</td>\n",
       "      <td>...</td>\n",
       "      <td>...</td>\n",
       "    </tr>\n",
       "    <tr>\n",
       "      <th>193</th>\n",
       "      <td>38</td>\n",
       "      <td>113</td>\n",
       "      <td>91</td>\n",
       "      <td>-1</td>\n",
       "    </tr>\n",
       "    <tr>\n",
       "      <th>194</th>\n",
       "      <td>47</td>\n",
       "      <td>120</td>\n",
       "      <td>16</td>\n",
       "      <td>-1</td>\n",
       "    </tr>\n",
       "    <tr>\n",
       "      <th>195</th>\n",
       "      <td>35</td>\n",
       "      <td>120</td>\n",
       "      <td>79</td>\n",
       "      <td>-1</td>\n",
       "    </tr>\n",
       "    <tr>\n",
       "      <th>196</th>\n",
       "      <td>45</td>\n",
       "      <td>126</td>\n",
       "      <td>28</td>\n",
       "      <td>-1</td>\n",
       "    </tr>\n",
       "    <tr>\n",
       "      <th>197</th>\n",
       "      <td>32</td>\n",
       "      <td>126</td>\n",
       "      <td>74</td>\n",
       "      <td>-1</td>\n",
       "    </tr>\n",
       "  </tbody>\n",
       "</table>\n",
       "<p>198 rows × 4 columns</p>\n",
       "</div>"
      ],
      "text/plain": [
       "     Age  Annual Income (k$)  Spending Score (1-100)  Cluster\n",
       "0     19                  15                      39       -1\n",
       "1     21                  15                      81        0\n",
       "2     20                  16                       6       -1\n",
       "3     23                  16                      77        0\n",
       "4     31                  17                      40       -1\n",
       "..   ...                 ...                     ...      ...\n",
       "193   38                 113                      91       -1\n",
       "194   47                 120                      16       -1\n",
       "195   35                 120                      79       -1\n",
       "196   45                 126                      28       -1\n",
       "197   32                 126                      74       -1\n",
       "\n",
       "[198 rows x 4 columns]"
      ]
     },
     "execution_count": 16,
     "metadata": {},
     "output_type": "execute_result"
    }
   ],
   "source": [
    "df"
   ]
  },
  {
   "cell_type": "code",
   "execution_count": 17,
   "id": "2a51dea2-f024-4a7b-85a4-00e45f7a25ff",
   "metadata": {},
   "outputs": [
    {
     "data": {
      "text/plain": [
       "Cluster\n",
       "-1     102\n",
       " 10     20\n",
       " 2      19\n",
       " 6      11\n",
       " 5      10\n",
       " 8       8\n",
       " 7       6\n",
       " 0       6\n",
       " 3       4\n",
       " 4       3\n",
       " 1       3\n",
       " 9       3\n",
       " 11      3\n",
       "Name: count, dtype: int64"
      ]
     },
     "execution_count": 17,
     "metadata": {},
     "output_type": "execute_result"
    }
   ],
   "source": [
    "df[\"Cluster\"].value_counts()"
   ]
  },
  {
   "cell_type": "code",
   "execution_count": 18,
   "id": "c51a5216-67a1-4f47-9e0d-fb442d34eda1",
   "metadata": {},
   "outputs": [
    {
     "data": {
      "image/png": "[encoded data removed]",
      "text/plain": [
       "<Figure size 1000x600 with 1 Axes>"
      ]
     },
     "metadata": {},
     "output_type": "display_data"
    }
   ],
   "source": [
    "import matplotlib.pyplot as plt\n",
    "\n",
    "# Count the number of items in each cluster\n",
    "cluster_counts = df['Cluster'].value_counts().sort_index()\n",
    "\n",
    "# Create bar plot\n",
    "plt.figure(figsize=(10, 6))\n",
    "cluster_counts.plot(kind='bar')\n",
    "plt.title('Number of Items per Cluster')\n",
    "plt.xlabel('Cluster')\n",
    "plt.ylabel('Count')\n",
    "plt.xticks(rotation=0)\n",
    "plt.grid(axis='y', linestyle='--', alpha=0.7)\n",
    "plt.show()"
   ]
  },
  {
   "cell_type": "code",
   "execution_count": null,
   "id": "59f38ced-d7ea-47a7-89ee-9553186122e1",
   "metadata": {},
   "outputs": [],
   "source": []
  }
 ],
 "metadata": {
  "kernelspec": {
   "display_name": "Python 3 (ipykernel)",
   "language": "python",
   "name": "python3"
  },
  "language_info": {
   "codemirror_mode": {
    "name": "ipython",
    "version": 3
   },
   "file_extension": ".py",
   "mimetype": "text/x-python",
   "name": "python",
   "nbconvert_exporter": "python",
   "pygments_lexer": "ipython3",
   "version": "3.13.1"
  }
 },
 "nbformat": 4,
 "nbformat_minor": 5
}
